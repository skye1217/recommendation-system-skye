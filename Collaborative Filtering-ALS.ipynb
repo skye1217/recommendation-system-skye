{
 "cells": [
  {
   "cell_type": "code",
   "execution_count": 18,
   "id": "9bfe1ad5",
   "metadata": {},
   "outputs": [],
   "source": [
    "from pyspark.sql import SparkSession\n",
    "from pyspark.ml.recommendation import ALS\n",
    "from pyspark.ml.evaluation import RegressionEvaluator\n",
    "from pyspark.sql import Row"
   ]
  },
  {
   "cell_type": "code",
   "execution_count": 26,
   "id": "ddb93e16",
   "metadata": {},
   "outputs": [
    {
     "data": {
      "text/plain": [
       "DataFrame[userId: int, movieId: int, rating: double, timestamp: int]"
      ]
     },
     "execution_count": 26,
     "metadata": {},
     "output_type": "execute_result"
    }
   ],
   "source": [
    "spark = SparkSession.builder.appName('Recommendations').getOrCreate()\n",
    "ratings = spark.read.option(\"inferSchema\",True).csv(\"/Users/yangguangqiang/Music/career-2021/recommend system/ml-latest-small/ratings.csv\",header=True)\n",
    "ratings"
   ]
  },
  {
   "cell_type": "code",
   "execution_count": 27,
   "id": "89cecbb7",
   "metadata": {},
   "outputs": [
    {
     "name": "stdout",
     "output_type": "stream",
     "text": [
      "Root-mean-square error = 1.0834762753124627\n"
     ]
    },
    {
     "name": "stderr",
     "output_type": "stream",
     "text": [
      "/opt/anaconda3/lib/python3.8/site-packages/pyspark/sql/context.py:125: FutureWarning: Deprecated in 3.0.0. Use SparkSession.builder.getOrCreate() instead.\n",
      "  warnings.warn(\n"
     ]
    }
   ],
   "source": [
    "(training, test) = ratings.randomSplit([0.8, 0.2])   #random切分数据\n",
    "als = ALS(maxIter=5, regParam=0.01, userCol=\"userId\", itemCol=\"movieId\", ratingCol=\"rating\",\n",
    "          coldStartStrategy=\"drop\")\n",
    "model = als.fit(training)\n",
    "\n",
    "# Evaluate the model by computing the RMSE on the test data\n",
    "predictions = model.transform(test)\n",
    "evaluator = RegressionEvaluator(metricName=\"rmse\", labelCol=\"rating\",\n",
    "                                predictionCol=\"prediction\")\n",
    "rmse = evaluator.evaluate(predictions)\n",
    "print(\"Root-mean-square error = \" + str(rmse))\n",
    "\n",
    "# Generate top 10 movie recommendations for each user\n",
    "userRecs = model.recommendForAllUsers(10)\n",
    "# Generate top 10 user recommendations for each movie\n",
    "movieRecs = model.recommendForAllItems(10)"
   ]
  },
  {
   "cell_type": "code",
   "execution_count": 32,
   "id": "f69377cb",
   "metadata": {},
   "outputs": [
    {
     "name": "stdout",
     "output_type": "stream",
     "text": [
      "+------+--------------------+\n",
      "|userId|     recommendations|\n",
      "+------+--------------------+\n",
      "|     1|[{3508, 6.138125}...|\n",
      "|     3|[{4518, 5.188017}...|\n",
      "|     5|[{7842, 7.7527103...|\n",
      "|     6|[{2769, 7.2565756...|\n",
      "|     9|[{95441, 7.635063...|\n",
      "|    12|[{69278, 8.874403...|\n",
      "|    13|[{89904, 8.274796...|\n",
      "|    15|[{5047, 8.003167}...|\n",
      "|    16|[{930, 4.860158},...|\n",
      "|    17|[{1719, 6.118033}...|\n",
      "|    19|[{322, 4.9465017}...|\n",
      "|    20|[{4642, 7.4092417...|\n",
      "|    22|[{2901, 10.397148...|\n",
      "|    26|[{7842, 6.0010376...|\n",
      "|    27|[{37384, 7.400357...|\n",
      "|    28|[{7842, 5.1065545...|\n",
      "|    31|[{674, 8.473235},...|\n",
      "|    34|[{8965, 9.353524}...|\n",
      "|    35|[{5048, 13.062377...|\n",
      "|    37|[{674, 16.854443}...|\n",
      "+------+--------------------+\n",
      "only showing top 20 rows\n",
      "\n"
     ]
    }
   ],
   "source": [
    "userRecs.show() #"
   ]
  },
  {
   "cell_type": "code",
   "execution_count": 30,
   "id": "3fd0489c",
   "metadata": {},
   "outputs": [
    {
     "name": "stdout",
     "output_type": "stream",
     "text": [
      "+-------+--------------------+\n",
      "|movieId|     recommendations|\n",
      "+-------+--------------------+\n",
      "|      1|[{259, 6.557937},...|\n",
      "|     12|[{147, 15.135076}...|\n",
      "|     13|[{147, 5.4637766}...|\n",
      "|     22|[{77, 6.285603}, ...|\n",
      "|     26|[{174, 6.3273377}...|\n",
      "|     27|[{258, 10.956926}...|\n",
      "|     28|[{258, 8.236999},...|\n",
      "|     31|[{77, 8.410044}, ...|\n",
      "|     34|[{37, 6.150867}, ...|\n",
      "|     44|[{259, 7.47868}, ...|\n",
      "|     47|[{147, 7.6709957}...|\n",
      "|     52|[{147, 8.845782},...|\n",
      "|     53|[{157, 9.428875},...|\n",
      "|     65|[{147, 7.7780914}...|\n",
      "|     76|[{363, 11.891413}...|\n",
      "|     78|[{77, 6.416016}, ...|\n",
      "|     81|[{22, 7.988296}, ...|\n",
      "|     85|[{467, 12.787369}...|\n",
      "|     93|[{557, 8.15063}, ...|\n",
      "|    101|[{407, 7.63058}, ...|\n",
      "+-------+--------------------+\n",
      "only showing top 20 rows\n",
      "\n"
     ]
    }
   ],
   "source": [
    "movieRecs.show()"
   ]
  },
  {
   "cell_type": "code",
   "execution_count": null,
   "id": "70965517",
   "metadata": {},
   "outputs": [],
   "source": []
  }
 ],
 "metadata": {
  "kernelspec": {
   "display_name": "Python 3",
   "language": "python",
   "name": "python3"
  },
  "language_info": {
   "codemirror_mode": {
    "name": "ipython",
    "version": 3
   },
   "file_extension": ".py",
   "mimetype": "text/x-python",
   "name": "python",
   "nbconvert_exporter": "python",
   "pygments_lexer": "ipython3",
   "version": "3.8.8"
  }
 },
 "nbformat": 4,
 "nbformat_minor": 5
}
